{
 "cells": [
  {
   "cell_type": "markdown",
   "id": "18a4fdb8-2263-4aeb-b3fd-a422cec5b9f9",
   "metadata": {},
   "source": [
    "# Algerian Forest  Fire EDA Dataset Project EDA Part"
   ]
  },
  {
   "cell_type": "code",
   "execution_count": null,
   "id": "61508bb9-8ac2-439f-8db5-0fe9db7f2914",
   "metadata": {},
   "outputs": [],
   "source": []
  }
 ],
 "metadata": {
  "kernelspec": {
   "display_name": "Python 3 (ipykernel)",
   "language": "python",
   "name": "python3"
  },
  "language_info": {
   "codemirror_mode": {
    "name": "ipython",
    "version": 3
   },
   "file_extension": ".py",
   "mimetype": "text/x-python",
   "name": "python",
   "nbconvert_exporter": "python",
   "pygments_lexer": "ipython3",
   "version": "3.10.8"
  }
 },
 "nbformat": 4,
 "nbformat_minor": 5
}
